{
 "cells": [
  {
   "cell_type": "markdown",
   "metadata": {
    "collapsed": true
   },
   "source": [
    "# We load a saved model and evaluate on a single subject"
   ]
  },
  {
   "cell_type": "markdown",
   "metadata": {
    "collapsed": true
   },
   "source": [
    "### (1) We start by importing necessary pre-installed packages"
   ]
  },
  {
   "cell_type": "code",
   "execution_count": 27,
   "metadata": {},
   "outputs": [],
   "source": [
    "import os\n",
    "import sys\n",
    "import numpy as np\n",
    "import matplotlib.pyplot as plt\n",
    "import glob\n",
    "# disable warnings caused by scipy 1.1 [https://github.com/scipy/scipy/issues/9086]\n",
    "import warnings\n",
    "warnings.filterwarnings('ignore')"
   ]
  },
  {
   "cell_type": "markdown",
   "metadata": {},
   "source": [
    "### (2) We import our 'sleeplearning' library"
   ]
  },
  {
   "cell_type": "code",
   "execution_count": 8,
   "metadata": {},
   "outputs": [
    {
     "name": "stdout",
     "output_type": "stream",
     "text": [
      "The autoreload extension is already loaded. To reload it, use:\n",
      "  %reload_ext autoreload\n"
     ]
    }
   ],
   "source": [
    "root_dir = os.path.abspath(os.path.join(os.path.dirname('__file__'), '..'))\n",
    "sys.path.insert(0, root_dir)\n",
    "from sleeplearning.lib.base import Base\n",
    "from sleeplearning.lib.visualize import Visualize\n",
    "%load_ext autoreload\n",
    "%autoreload 2"
   ]
  },
  {
   "cell_type": "markdown",
   "metadata": {},
   "source": [
    "### (3) We load the model, check the used preprocessing and model parameters"
   ]
  },
  {
   "cell_type": "code",
   "execution_count": 18,
   "metadata": {},
   "outputs": [],
   "source": [
    "checkpoint_dir = os.path.join(root_dir, 'models', 'Evaluation-Physionet18-Channels','2208-F3M2-rs40_0.pth.tar')\n",
    "subject_dir = os.path.join(root_dir, 'data', 'physionet-challenge-train','tr03-0921')"
   ]
  },
  {
   "cell_type": "code",
   "execution_count": 25,
   "metadata": {},
   "outputs": [
    {
     "name": "stdout",
     "output_type": "stream",
     "text": [
      "=> loaded model (epoch 11), Prec@1: 70.31497161359779\n"
     ]
    }
   ],
   "source": [
    "model = Base(verbose=True)\n",
    "model.restore(checkpoint_dir)"
   ]
  },
  {
   "cell_type": "code",
   "execution_count": 20,
   "metadata": {},
   "outputs": [
    {
     "data": {
      "text/plain": [
       "{'loader': 'Physionet18',\n",
       " 'channels': [['F3-M2',\n",
       "   ['ResamplePoly(epoch_len=30, fs=200)',\n",
       "    'BandPass(fs=100, lowpass=45, highpass=.5)',\n",
       "    'Spectrogram(fs=100, window=150, stride=100)',\n",
       "    'LogTransform()',\n",
       "    'TwoDFreqSubjScaler()']]],\n",
       " 'nbrs': 8,\n",
       " 'nclasses': 5,\n",
       " 'train_dist': [5130, 5823, 15234, 4297, 5278]}"
      ]
     },
     "execution_count": 20,
     "metadata": {},
     "output_type": "execute_result"
    }
   ],
   "source": [
    "model.ds"
   ]
  },
  {
   "cell_type": "code",
   "execution_count": 23,
   "metadata": {},
   "outputs": [
    {
     "data": {
      "text/plain": [
       "('SingleChanExpert',\n",
       " {'dropout': 0.5,\n",
       "  'epochs': 32,\n",
       "  'optim': 'adam,lr=0.00001',\n",
       "  'weighted_loss': True,\n",
       "  'input_dim': (1, 76, 270),\n",
       "  'nclasses': 5})"
      ]
     },
     "execution_count": 23,
     "metadata": {},
     "output_type": "execute_result"
    }
   ],
   "source": [
    "model.arch, model.ms"
   ]
  },
  {
   "cell_type": "markdown",
   "metadata": {},
   "source": [
    "### (4) We score our model on a subject and output the prediction accuracy"
   ]
  },
  {
   "cell_type": "code",
   "execution_count": 28,
   "metadata": {},
   "outputs": [
    {
     "name": "stdout",
     "output_type": "stream",
     "text": [
      "( /local/home/hlinus/Dev/SleepLearning/data/physionet-challenge-train/tmp/tmp )\n",
      "\n",
      "loaded tr03-0921 [4.04s, 0 artifacts removed]\n",
      "class distribution: {'WAKE': 60, 'N1': 147, 'N2': 506, 'N3': 138, 'REM': 121}\n",
      "input shape: (1, 76, 270)\n",
      "oversample: False\n",
      "num workers: 0  pin_mem: False\n"
     ]
    }
   ],
   "source": [
    "acc, y_pred, y_true = model.score(subject_dir)"
   ]
  },
  {
   "cell_type": "code",
   "execution_count": 29,
   "metadata": {},
   "outputs": [
    {
     "data": {
      "text/plain": [
       "79.62962944124952"
      ]
     },
     "execution_count": 29,
     "metadata": {},
     "output_type": "execute_result"
    }
   ],
   "source": [
    "acc"
   ]
  }
 ],
 "metadata": {
  "kernelspec": {
   "display_name": "Python 3",
   "language": "python",
   "name": "python3"
  },
  "language_info": {
   "codemirror_mode": {
    "name": "ipython",
    "version": 3
   },
   "file_extension": ".py",
   "mimetype": "text/x-python",
   "name": "python",
   "nbconvert_exporter": "python",
   "pygments_lexer": "ipython3",
   "version": "3.6.5"
  }
 },
 "nbformat": 4,
 "nbformat_minor": 2
}
